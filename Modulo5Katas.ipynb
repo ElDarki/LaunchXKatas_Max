{
 "cells": [
  {
   "cell_type": "markdown",
   "metadata": {},
   "source": [
    "## Modulo 5 Katas"
   ]
  },
  {
   "cell_type": "markdown",
   "metadata": {},
   "source": [
    "### Ejercicio 1"
   ]
  },
  {
   "cell_type": "code",
   "execution_count": 5,
   "metadata": {},
   "outputs": [
    {
     "name": "stdout",
     "output_type": "stream",
     "text": [
      "628949330\n",
      "390577534\n"
     ]
    }
   ],
   "source": [
    "distTierra = 149597870\n",
    "distJupiter = 778547200\n",
    "\n",
    "distTot = distTierra - distJupiter\n",
    "\n",
    "print(abs(distTot))\n",
    "print(round(abs(distTot*.621)))"
   ]
  },
  {
   "cell_type": "markdown",
   "metadata": {},
   "source": [
    "### Ejercicio 2"
   ]
  },
  {
   "cell_type": "code",
   "execution_count": 9,
   "metadata": {},
   "outputs": [
    {
     "name": "stdout",
     "output_type": "stream",
     "text": [
      "La distancia entre planetas en km es: 720700000\n",
      "La distancia entre planetas en Millas es: 447554700.0\n"
     ]
    }
   ],
   "source": [
    "dist1 = input(\"Cual es la distancia del planeta 1? \")\n",
    "dist2 = input(\"Cual es la distancia del planeta 2? \")\n",
    "\n",
    "distTot = abs(int(dist1) - int(dist2))\n",
    "\n",
    "print(\"La distancia entre planetas en km es: \" + str(distTot))\n",
    "print(\"La distancia entre planetas en Millas es: \" + str(distTot*.621))\n"
   ]
  }
 ],
 "metadata": {
  "interpreter": {
   "hash": "8324d1d17575bc6aaf0382439c3cf3cc5c61f831a4fd26706b7e10a6962a86cf"
  },
  "kernelspec": {
   "display_name": "Python 3.10.2 64-bit",
   "language": "python",
   "name": "python3"
  },
  "language_info": {
   "codemirror_mode": {
    "name": "ipython",
    "version": 3
   },
   "file_extension": ".py",
   "mimetype": "text/x-python",
   "name": "python",
   "nbconvert_exporter": "python",
   "pygments_lexer": "ipython3",
   "version": "3.10.2"
  },
  "orig_nbformat": 4
 },
 "nbformat": 4,
 "nbformat_minor": 2
}
