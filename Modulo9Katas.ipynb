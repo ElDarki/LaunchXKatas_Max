{
 "cells": [
  {
   "cell_type": "markdown",
   "metadata": {},
   "source": [
    "## Modulo 9 Katas"
   ]
  },
  {
   "cell_type": "markdown",
   "metadata": {},
   "source": [
    "### Ejercicio 1"
   ]
  },
  {
   "cell_type": "code",
   "execution_count": 1,
   "metadata": {},
   "outputs": [
    {
     "name": "stdout",
     "output_type": "stream",
     "text": [
      "REPORTE DE COMBUSTIBLE\n",
      "    Tanque 1: 10\n",
      "    Tanque 2: 50\n",
      "    Tanque 3: 90\n",
      "    Promedio de Combustible: 50.0\n"
     ]
    }
   ],
   "source": [
    "def combustolio(tanque1, tanque2, tanque3):\n",
    "    promedio = (tanque1+tanque2+tanque3)/3\n",
    "    return f\"\"\"REPORTE DE COMBUSTIBLE\n",
    "    Tanque 1: {tanque1}\n",
    "    Tanque 2: {tanque2}\n",
    "    Tanque 3: {tanque3}\n",
    "    Promedio de Combustible: {promedio}\"\"\"\n",
    "\n",
    "print(combustolio(10,50,90))\n"
   ]
  },
  {
   "cell_type": "markdown",
   "metadata": {},
   "source": [
    "### Ejercicio 2"
   ]
  },
  {
   "cell_type": "code",
   "execution_count": 11,
   "metadata": {},
   "outputs": [
    {
     "name": "stdout",
     "output_type": "stream",
     "text": [
      "MISION LUNA\n",
      "    Tiempo de prelanzamiento: 80\n",
      "    TIempo de vuelo 90\n",
      "El tanque interno tiene: 500000 litros de reserva.\n",
      "El tanque externo tiene: 90000000 litros de reserva.\n",
      "\n"
     ]
    }
   ],
   "source": [
    "def missionReport(destino, *minutos, **reservas):\n",
    "    riport = f\"\"\"MISION {destino}\n",
    "    Tiempo de prelanzamiento: {minutos[0]}\n",
    "    TIempo de vuelo {minutos[1]}\\n\"\"\"\n",
    "\n",
    "    for tank, fiul in reservas.items():\n",
    "        riport += f\"El tanque {tank} tiene: {fiul} litros de reserva.\\n\"\n",
    "    return riport\n",
    "\n",
    "\n",
    "print(missionReport('LUNA', 80, 90, interno=500000, externo=90000000))"
   ]
  }
 ],
 "metadata": {
  "interpreter": {
   "hash": "8324d1d17575bc6aaf0382439c3cf3cc5c61f831a4fd26706b7e10a6962a86cf"
  },
  "kernelspec": {
   "display_name": "Python 3.10.2 64-bit",
   "language": "python",
   "name": "python3"
  },
  "language_info": {
   "codemirror_mode": {
    "name": "ipython",
    "version": 3
   },
   "file_extension": ".py",
   "mimetype": "text/x-python",
   "name": "python",
   "nbconvert_exporter": "python",
   "pygments_lexer": "ipython3",
   "version": "3.10.2"
  },
  "orig_nbformat": 4
 },
 "nbformat": 4,
 "nbformat_minor": 2
}
