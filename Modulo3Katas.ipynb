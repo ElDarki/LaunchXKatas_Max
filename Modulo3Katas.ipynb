{
 "cells": [
  {
   "cell_type": "markdown",
   "metadata": {},
   "source": [
    "## Modulo 3 Katas"
   ]
  },
  {
   "cell_type": "markdown",
   "metadata": {},
   "source": [
    "### Ejercicio 1"
   ]
  },
  {
   "cell_type": "code",
   "execution_count": 1,
   "metadata": {},
   "outputs": [
    {
     "name": "stdout",
     "output_type": "stream",
     "text": [
      "¡¡¡CORRAN ALV VIENE UN ASTEROIDE!!!\n"
     ]
    }
   ],
   "source": [
    "velAst1 = 49\n",
    "\n",
    "if velAst1 > 25:\n",
    "    print(\"¡¡¡CORRAN ALV VIENE UN ASTEROIDE!!!\")\n",
    "else:\n",
    "    print(\"CALMANTES MONTES ALICANTES CANTANTES, EL ASTEROIDE NO VIENE HACIA ACA\")"
   ]
  },
  {
   "cell_type": "markdown",
   "metadata": {},
   "source": [
    "### Ejercicio 2"
   ]
  },
  {
   "cell_type": "code",
   "execution_count": 2,
   "metadata": {},
   "outputs": [
    {
     "name": "stdout",
     "output_type": "stream",
     "text": [
      "Cuidado hay un asteroide que se aproxima, pero la velocidad no es peligrosa\n"
     ]
    }
   ],
   "source": [
    "velAst1 = 49\n",
    "velAst2 = 19\n",
    "\n",
    "if velAst2 > 20:\n",
    "    print(\"¡Busquen una estela de luz, puede ser un asteroide!\")\n",
    "elif velAst2 == 20:\n",
    "    print(\"¡Busquen una estela de luz, puede ser un asteroide!\")\n",
    "else:\n",
    "    print(\"Cuidado hay un asteroide que se aproxima, pero la velocidad no es peligrosa\")"
   ]
  },
  {
   "cell_type": "markdown",
   "metadata": {},
   "source": [
    "### Ejercicio 3"
   ]
  },
  {
   "cell_type": "code",
   "execution_count": 3,
   "metadata": {},
   "outputs": [
    {
     "name": "stdout",
     "output_type": "stream",
     "text": [
      "Awas hay un asteroide surfeando por el espacio.\n"
     ]
    }
   ],
   "source": [
    "velAst3 = 50\n",
    "sizeAst3 = 20\n",
    "\n",
    "#Determinando el tamaño...\n",
    "if sizeAst3 > 25 and sizeAst3 < 1000 and velAst3 > 25:\n",
    "    print(\"NOMAMEN SE VA A ACABAR EL MUNDO\")\n",
    "elif sizeAst3 < 25 and velAst3 > 25:\n",
    "    print(\"Awas hay un asteroide surfeando por el espacio.\")\n",
    "elif sizeAst3 < 25 and velAst3 > 20:\n",
    "    print(\"Wacha afuera y busca una LUUUUUZ\")\n",
    "else:\n",
    "    print(\"Noooo hay nada que ver, reunance por alla\")"
   ]
  }
 ],
 "metadata": {
  "interpreter": {
   "hash": "8324d1d17575bc6aaf0382439c3cf3cc5c61f831a4fd26706b7e10a6962a86cf"
  },
  "kernelspec": {
   "display_name": "Python 3.10.2 64-bit",
   "language": "python",
   "name": "python3"
  },
  "language_info": {
   "codemirror_mode": {
    "name": "ipython",
    "version": 3
   },
   "file_extension": ".py",
   "mimetype": "text/x-python",
   "name": "python",
   "nbconvert_exporter": "python",
   "pygments_lexer": "ipython3",
   "version": "3.10.2"
  },
  "orig_nbformat": 4
 },
 "nbformat": 4,
 "nbformat_minor": 2
}
