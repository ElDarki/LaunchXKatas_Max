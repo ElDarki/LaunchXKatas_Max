{
 "cells": [
  {
   "cell_type": "markdown",
   "metadata": {},
   "source": [
    "## Modulo 4 Katas"
   ]
  },
  {
   "cell_type": "markdown",
   "metadata": {},
   "source": [
    "### Ejercicio 1"
   ]
  },
  {
   "cell_type": "code",
   "execution_count": 1,
   "metadata": {},
   "outputs": [
    {
     "name": "stdout",
     "output_type": "stream",
     "text": [
      "\n",
      "On average, the Moon moves 4cm away from the Earth every year\n",
      "The highest daylight temperature of the Moon is 127 Celsius.\n"
     ]
    }
   ],
   "source": [
    "texto = \"\"\"Interesting facts about the Moon. The Moon is Earth's only satellite. There are several interesting facts about the Moon and how it affects life here on Earth. \n",
    "On average, the Moon moves 4cm away from the Earth every year. This yearly drift is not significant enough to cause immediate effects on Earth. The highest daylight temperature of the Moon is 127 C.\"\"\"\n",
    "\n",
    "textodiv = texto.split(\". \")\n",
    "\n",
    "keyWords = [\"average\", \"temperature\", \"distance\"]\n",
    "\n",
    "for oracion in textodiv:\n",
    "    for keyWord in keyWords:\n",
    "        if keyWord in oracion:\n",
    "            oracion = oracion.replace(\"C\",\"Celsius\")\n",
    "            print(oracion)\n",
    "            break"
   ]
  },
  {
   "cell_type": "markdown",
   "metadata": {},
   "source": [
    "### Ejercicio 2"
   ]
  },
  {
   "cell_type": "code",
   "execution_count": 1,
   "metadata": {},
   "outputs": [
    {
     "name": "stdout",
     "output_type": "stream",
     "text": [
      "Datos De Gravedad Sobre Earth\n",
      "------------------------------------\n",
      "Nombre del planeta: Earth\n",
      "Gravedad en Moon: 1.6199999999999999 m/s2\n",
      "\n",
      "Datos de Gravedad Sobre: Ganimides\n",
      "Nombre del planeta: Marte\n",
      "Gravedad en Ganimides: 1.4300000000000002 m/s2\n"
     ]
    }
   ],
   "source": [
    "name = \"Moon\"\n",
    "gravity = 0.00162 #Km/s\n",
    "planet = \"Earth\"\n",
    "\n",
    "title = \"Datos de gravedad sobre \" + planet\n",
    "\n",
    "datos = f\"\"\"Nombre del planeta: {planet}\n",
    "Gravedad en {name}: {gravity * 1000} m/s2\n",
    "\"\"\"\n",
    "\n",
    "plantilla = f\"\"\"{title.title()}\n",
    "------------------------------------\n",
    "{datos}\"\"\"\n",
    "\n",
    "print(plantilla)\n",
    "\n",
    "planeta = \"Marte\"\n",
    "gravedad = .00143\n",
    "nombre = \"Ganimides\"\n",
    "\n",
    "nuevaPlantilla = \"\"\"Datos de Gravedad Sobre: {0}\n",
    "Nombre del planeta: {1}\n",
    "Gravedad en {0}: {2} m/s2\"\"\"\n",
    "\n",
    "print(nuevaPlantilla.format(nombre, planeta, gravedad*1000))"
   ]
  }
 ],
 "metadata": {
  "interpreter": {
   "hash": "8324d1d17575bc6aaf0382439c3cf3cc5c61f831a4fd26706b7e10a6962a86cf"
  },
  "kernelspec": {
   "display_name": "Python 3.10.2 64-bit",
   "language": "python",
   "name": "python3"
  },
  "language_info": {
   "codemirror_mode": {
    "name": "ipython",
    "version": 3
   },
   "file_extension": ".py",
   "mimetype": "text/x-python",
   "name": "python",
   "nbconvert_exporter": "python",
   "pygments_lexer": "ipython3",
   "version": "3.10.2"
  },
  "orig_nbformat": 4
 },
 "nbformat": 4,
 "nbformat_minor": 2
}
